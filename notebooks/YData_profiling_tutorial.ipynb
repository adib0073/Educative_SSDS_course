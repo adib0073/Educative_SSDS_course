{
  "cells": [
    {
      "cell_type": "markdown",
      "metadata": {
        "id": "view-in-github",
        "colab_type": "text"
      },
      "source": [
        "<a href=\"https://colab.research.google.com/github/adib0073/Educative_SSDS_course/blob/main/notebooks/YData_profiling_tutorial.ipynb\" target=\"_parent\"><img src=\"https://colab.research.google.com/assets/colab-badge.svg\" alt=\"Open In Colab\"/></a>"
      ]
    },
    {
      "cell_type": "markdown",
      "metadata": {
        "id": "Vt-Uoi1k5HPC"
      },
      "source": [
        "Make sure that we have the latest version of pandas-profiling."
      ]
    },
    {
      "cell_type": "code",
      "execution_count": null,
      "metadata": {
        "id": "02KOrHAy5HPE"
      },
      "outputs": [],
      "source": [
        "!pip install -U pandas-profiling"
      ]
    },
    {
      "cell_type": "code",
      "execution_count": null,
      "metadata": {
        "id": "N1kh2bmb5HPF"
      },
      "outputs": [],
      "source": [
        "# Standard Library Imports\n",
        "from pathlib import Path\n",
        "\n",
        "# Installed packages\n",
        "import pandas as pd\n",
        "\n",
        "# Our package\n",
        "from ydata_profiling import ProfileReport\n",
        "from ydata_profiling.utils.cache import cache_file"
      ]
    },
    {
      "cell_type": "code",
      "execution_count": null,
      "metadata": {
        "id": "i5WWEnDw5HPG"
      },
      "outputs": [],
      "source": [
        "# Read the Titanic Dataset\n",
        "file_name = cache_file(\n",
        "    \"titanic.csv\",\n",
        "    \"https://raw.githubusercontent.com/datasciencedojo/datasets/master/titanic.csv\",\n",
        ")\n",
        "df = pd.read_csv(file_name)"
      ]
    },
    {
      "cell_type": "code",
      "execution_count": null,
      "metadata": {
        "id": "CpNbpLCP5HPG"
      },
      "outputs": [],
      "source": [
        "# Generate the Profiling Report\n",
        "profile = ProfileReport(\n",
        "    df, title=\"Titanic Dataset\", html={\"style\": {\"full_width\": True}}, sort=None\n",
        ")"
      ]
    },
    {
      "cell_type": "code",
      "execution_count": null,
      "metadata": {
        "id": "JEZr8Z_j5HPG"
      },
      "outputs": [],
      "source": [
        "# The HTML report in an iframe\n",
        "profile"
      ]
    }
  ],
  "metadata": {
    "kernelspec": {
      "display_name": "Python 3",
      "language": "python",
      "name": "python3"
    },
    "language_info": {
      "codemirror_mode": {
        "name": "ipython",
        "version": 3
      },
      "file_extension": ".py",
      "mimetype": "text/x-python",
      "name": "python",
      "nbconvert_exporter": "python",
      "pygments_lexer": "ipython3",
      "version": "3.7.3"
    },
    "colab": {
      "provenance": [],
      "include_colab_link": true
    }
  },
  "nbformat": 4,
  "nbformat_minor": 0
}